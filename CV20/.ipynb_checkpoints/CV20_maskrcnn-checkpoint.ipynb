{
 "cells": [
  {
   "cell_type": "code",
   "execution_count": 7,
   "id": "f159b46f-02e8-486c-bbba-41bfe1862ac6",
   "metadata": {},
   "outputs": [],
   "source": [
    "%matplotlib inline\n",
    "\n",
    "import torch\n",
    "import torchvision\n",
    "import imageio\n",
    "import pandas as pd\n",
    "import os\n",
    "import matplotlib.pyplot as plt\n",
    "import torchvision.transforms as T\n",
    "from PIL import Image\n",
    "\n",
    "\n",
    "from tqdm.notebook import tqdm\n",
    "from os import path\n",
    "\n",
    "base_path = \"D:\\Vezdecode\\CV\\CV20\""
   ]
  },
  {
   "cell_type": "code",
   "execution_count": 10,
   "id": "d58dbf28-42e1-4816-b2c7-3d018f803a87",
   "metadata": {
    "tags": []
   },
   "outputs": [],
   "source": [
    "def parser_result(result):\n",
    "    pred = result.pred[0]\n",
    "    names = result.names\n",
    "    \n",
    "    s = \"\"  # string\n",
    "    if pred.shape[0]:\n",
    "        for c in pred[:, -1].unique():\n",
    "            n = (pred[:, -1] == c).sum()  # detections per class\n",
    "            s += f\"{names[int(c)]}, \"  # add to string\n",
    "    else:\n",
    "        s += \"(no detections)\"\n",
    "        \n",
    "    return s\n",
    "\n",
    "def find_car(input_dir:str, output_cars:str=\"output.csv\"):\n",
    "    files = [path.join(base_path, input_dir, img) for img in os.listdir(input_dir)]\n",
    "    \n",
    "    result_df = pd.DataFrame(columns=[\"image\", \"is_car\"])\n",
    "    name_images = [] # Список для сохранения имен картинок\n",
    "    preds_is_car = [] # Список для сохранения предсказания наличия машины на изображении\n",
    "    \n",
    "    model = torchvision.models.detection.maskrcnn_resnet50_fpn(pretrained=True).eval()\n",
    "    \n",
    "    for img in tqdm(files):\n",
    "        name_images.append(img.split(\"\\\\\")[-1])\n",
    "        \n",
    "        image = imageio.imread(img)\n",
    "        \n",
    "        trf = T.Compose([T.Resize(256),\n",
    "                         T.CenterCrop(224),\n",
    "                         T.ToTensor(), \n",
    "                         T.Normalize(mean=[0.485, 0.456, 0.406], \n",
    "                                     std=[0.229, 0.224, 0.225])])\n",
    "\n",
    "        inp = trf(Image.fromarray(image)).unsqueeze(0)\n",
    "        \n",
    "        result = model(inp)\n",
    "        \n",
    "        if 3 in result[0][\"labels\"]:\n",
    "            preds_is_car.append(True)\n",
    "        else:\n",
    "            preds_is_car.append(False)\n",
    "    \n",
    "    result_df[\"image\"] = name_images\n",
    "    result_df[\"is_car\"] = preds_is_car\n",
    "            \n",
    "    result_df.to_csv(output_cars, index=False, header=False)\n",
    "    \n",
    "    return result_df"
   ]
  },
  {
   "cell_type": "code",
   "execution_count": 11,
   "id": "c9d41ea9-a3fa-4f03-ab29-1d9f95c0a357",
   "metadata": {},
   "outputs": [
    {
     "data": {
      "application/vnd.jupyter.widget-view+json": {
       "model_id": "8fc52487eace4d2aa54ef1e41d460ea1",
       "version_major": 2,
       "version_minor": 0
      },
      "text/plain": [
       "  0%|          | 0/100 [00:00<?, ?it/s]"
      ]
     },
     "metadata": {},
     "output_type": "display_data"
    },
    {
     "ename": "NameError",
     "evalue": "name 'model' is not defined",
     "output_type": "error",
     "traceback": [
      "\u001b[1;31m---------------------------------------------------------------------------\u001b[0m",
      "\u001b[1;31mNameError\u001b[0m                                 Traceback (most recent call last)",
      "\u001b[1;32m~\\AppData\\Local\\Temp/ipykernel_6176/1906621795.py\u001b[0m in \u001b[0;36m<module>\u001b[1;34m\u001b[0m\n\u001b[0;32m      1\u001b[0m \u001b[0minput_dir\u001b[0m \u001b[1;33m=\u001b[0m \u001b[0mpath\u001b[0m\u001b[1;33m.\u001b[0m\u001b[0mjoin\u001b[0m\u001b[1;33m(\u001b[0m\u001b[0mbase_path\u001b[0m\u001b[1;33m,\u001b[0m \u001b[1;34m\"resources\\merged_data\"\u001b[0m\u001b[1;33m)\u001b[0m\u001b[1;33m\u001b[0m\u001b[1;33m\u001b[0m\u001b[0m\n\u001b[0;32m      2\u001b[0m \u001b[1;33m\u001b[0m\u001b[0m\n\u001b[1;32m----> 3\u001b[1;33m \u001b[0moutput_df\u001b[0m \u001b[1;33m=\u001b[0m \u001b[0mfind_car\u001b[0m\u001b[1;33m(\u001b[0m\u001b[0minput_dir\u001b[0m\u001b[1;33m)\u001b[0m\u001b[1;33m\u001b[0m\u001b[1;33m\u001b[0m\u001b[0m\n\u001b[0m",
      "\u001b[1;32m~\\AppData\\Local\\Temp/ipykernel_6176/921923686.py\u001b[0m in \u001b[0;36mfind_car\u001b[1;34m(input_dir, output_cars)\u001b[0m\n\u001b[0;32m     35\u001b[0m         \u001b[0minp\u001b[0m \u001b[1;33m=\u001b[0m \u001b[0mtrf\u001b[0m\u001b[1;33m(\u001b[0m\u001b[0mImage\u001b[0m\u001b[1;33m.\u001b[0m\u001b[0mfromarray\u001b[0m\u001b[1;33m(\u001b[0m\u001b[0mimage\u001b[0m\u001b[1;33m)\u001b[0m\u001b[1;33m)\u001b[0m\u001b[1;33m.\u001b[0m\u001b[0munsqueeze\u001b[0m\u001b[1;33m(\u001b[0m\u001b[1;36m0\u001b[0m\u001b[1;33m)\u001b[0m\u001b[1;33m\u001b[0m\u001b[1;33m\u001b[0m\u001b[0m\n\u001b[0;32m     36\u001b[0m \u001b[1;33m\u001b[0m\u001b[0m\n\u001b[1;32m---> 37\u001b[1;33m         \u001b[0mresult\u001b[0m \u001b[1;33m=\u001b[0m \u001b[0mmodel\u001b[0m\u001b[1;33m(\u001b[0m\u001b[0minp\u001b[0m\u001b[1;33m)\u001b[0m\u001b[1;33m\u001b[0m\u001b[1;33m\u001b[0m\u001b[0m\n\u001b[0m\u001b[0;32m     38\u001b[0m \u001b[1;33m\u001b[0m\u001b[0m\n\u001b[0;32m     39\u001b[0m         \u001b[1;32mif\u001b[0m \u001b[1;36m3\u001b[0m \u001b[1;32min\u001b[0m \u001b[0mresult\u001b[0m\u001b[1;33m[\u001b[0m\u001b[1;36m0\u001b[0m\u001b[1;33m]\u001b[0m\u001b[1;33m[\u001b[0m\u001b[1;34m\"labels\"\u001b[0m\u001b[1;33m]\u001b[0m\u001b[1;33m:\u001b[0m\u001b[1;33m\u001b[0m\u001b[1;33m\u001b[0m\u001b[0m\n",
      "\u001b[1;31mNameError\u001b[0m: name 'model' is not defined"
     ]
    }
   ],
   "source": [
    "input_dir = path.join(base_path, \"resources\\merged_data\")\n",
    "\n",
    "output_df = find_car(input_dir)"
   ]
  },
  {
   "cell_type": "code",
   "execution_count": null,
   "id": "2ea0837a-fb13-4883-8b4a-f1bc3e925757",
   "metadata": {},
   "outputs": [
    {
     "data": {
      "text/html": [
       "<div>\n",
       "<style scoped>\n",
       "    .dataframe tbody tr th:only-of-type {\n",
       "        vertical-align: middle;\n",
       "    }\n",
       "\n",
       "    .dataframe tbody tr th {\n",
       "        vertical-align: top;\n",
       "    }\n",
       "\n",
       "    .dataframe thead th {\n",
       "        text-align: right;\n",
       "    }\n",
       "</style>\n",
       "<table border=\"1\" class=\"dataframe\">\n",
       "  <thead>\n",
       "    <tr style=\"text-align: right;\">\n",
       "      <th></th>\n",
       "      <th>image</th>\n",
       "      <th>is_car</th>\n",
       "    </tr>\n",
       "  </thead>\n",
       "  <tbody>\n",
       "    <tr>\n",
       "      <th>0</th>\n",
       "      <td>00001.jpg</td>\n",
       "      <td>False</td>\n",
       "    </tr>\n",
       "    <tr>\n",
       "      <th>1</th>\n",
       "      <td>00002.jpg</td>\n",
       "      <td>False</td>\n",
       "    </tr>\n",
       "    <tr>\n",
       "      <th>2</th>\n",
       "      <td>00003.jpg</td>\n",
       "      <td>True</td>\n",
       "    </tr>\n",
       "    <tr>\n",
       "      <th>3</th>\n",
       "      <td>00004.jpg</td>\n",
       "      <td>False</td>\n",
       "    </tr>\n",
       "    <tr>\n",
       "      <th>4</th>\n",
       "      <td>00005.jpg</td>\n",
       "      <td>True</td>\n",
       "    </tr>\n",
       "  </tbody>\n",
       "</table>\n",
       "</div>"
      ],
      "text/plain": [
       "       image  is_car\n",
       "0  00001.jpg   False\n",
       "1  00002.jpg   False\n",
       "2  00003.jpg    True\n",
       "3  00004.jpg   False\n",
       "4  00005.jpg    True"
      ]
     },
     "execution_count": 23,
     "metadata": {},
     "output_type": "execute_result"
    }
   ],
   "source": [
    "valid_target = pd.read_csv(path.join(base_path, \"resources\\\\val.csv\"), \n",
    "                           header=None, \n",
    "                           names=[\"image\", \"is_car\"])\n",
    "valid_target.head()"
   ]
  },
  {
   "cell_type": "code",
   "execution_count": null,
   "id": "eb3c664a-8fc5-433a-a31a-645b00f85b13",
   "metadata": {},
   "outputs": [
    {
     "data": {
      "text/plain": [
       "11.5"
      ]
     },
     "execution_count": 24,
     "metadata": {},
     "output_type": "execute_result"
    }
   ],
   "source": [
    "K = sum(output_df[\"is_car\"] == valid_target[\"is_car\"])\n",
    "score = max (0, K - 60) * 20 / (100 - 60)\n",
    "score"
   ]
  }
 ],
 "metadata": {
  "kernelspec": {
   "display_name": "Python 3 (ipykernel)",
   "language": "python",
   "name": "python3"
  },
  "language_info": {
   "codemirror_mode": {
    "name": "ipython",
    "version": 3
   },
   "file_extension": ".py",
   "mimetype": "text/x-python",
   "name": "python",
   "nbconvert_exporter": "python",
   "pygments_lexer": "ipython3",
   "version": "3.8.11"
  }
 },
 "nbformat": 4,
 "nbformat_minor": 5
}
